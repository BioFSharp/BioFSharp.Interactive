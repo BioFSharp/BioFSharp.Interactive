{
 "cells": [
  {
   "cell_type": "markdown",
   "metadata": {
    "dotnet_interactive": {
     "language": "fsharp"
    }
   },
   "source": [
    "To reproduce the package, run `./Repack.ps1` in powershell. It will clean your cache in `~/.nuget/packages` and pack the library to `BioFSharp/pkg` folder, which you should specify below (absolute paths only) in `#i` line.\n",
    "\n",
    "The version of the package is always `0.0.0-dev`."
   ]
  },
  {
   "cell_type": "code",
   "execution_count": null,
   "metadata": {
    "dotnet_interactive": {
     "language": "fsharp"
    }
   },
   "outputs": [
    {
     "data": {
      "text/html": [
       "<div><div><strong>Restore sources</strong><ul><li><span> C:/Users/schne/source/repos/CSBiology/BioFSharp/pkg</span></li></ul></div><div></div><div><strong>Installed Packages</strong><ul><li><span>BioFSharp, 0.0.0-dev</span></li><li><span>BioFSharp.Interactive, 0.0.0-dev</span></li></ul></div></div>"
      ]
     },
     "metadata": {},
     "output_type": "display_data"
    },
    {
     "data": {
      "text/markdown": [
       "Loading extensions from `BioFSharp.Interactive.dll`"
      ]
     },
     "metadata": {},
     "output_type": "display_data"
    }
   ],
   "source": [
    "// be advised, that you always should set absolute paths for local nuget packages - change this to reflect your own setup\n",
    "#i \"nuget: C:/Users/schne/source/repos/CSBiology/BioFSharp/pkg\"\n",
    "#r \"nuget: BioFSharp, 0.0.0-dev\"\n",
    "#r \"nuget: BioFSharp.Interactive, 0.0.0-dev\""
   ]
  },
  {
   "cell_type": "code",
   "execution_count": null,
   "metadata": {
    "dotnet_interactive": {
     "language": "fsharp"
    }
   },
   "outputs": [],
   "source": [
    "\n",
    "open BioFSharp\n",
    "\n",
    "open BioFSharp\n",
    "open BioFSharp.Algorithm\n",
    "open BioFSharp.Algorithm.PairwiseAlignment\n",
    "\n",
    "let aaScoring = ScoringMatrix.getScoringMatrixAminoAcid ScoringMatrix.ScoringMatrixAminoAcid.BLOSUM62\n",
    "let nucScoring = ScoringMatrix.getScoringMatrixNucleotide  ScoringMatrix.ScoringMatrixNucleotide.EDNA\n",
    "\n",
    "//For aminoacids\n",
    "let costAA = {\n",
    "    Open = -5\n",
    "    Continuation = -1\n",
    "    Similarity = aaScoring \n",
    "    }\n",
    "\n",
    "//For nucleotides\n",
    "let costN = {\n",
    "    Open = -5\n",
    "    Continuation = -1\n",
    "    Similarity = nucScoring \n",
    "    }\n",
    "\n",
    "let query1AA = \"NLFVAAAAQTKNGQGWVPSNYITPVNSAAA\" |> BioArray.ofAminoAcidSymbolString\n",
    "let query2AA = \"NLFVALYDFVASGDNTLSITKGEKLRVLGYNHNGEWCEAQTKNGQGWVPSNYITPVNS\" |> BioArray.ofAminoAcidSymbolString\n",
    "\n",
    "let localAA = \n",
    "    PairwiseAlignment.Local.SmithWaterman.align(query1AA,query2AA,costAA)\n",
    "\n",
    "let globalAA =\n",
    "    PairwiseAlignment.Global.NeedlemanWunsch.align(query1AA,query2AA,costAA)"
   ]
  },
  {
   "cell_type": "code",
   "execution_count": null,
   "metadata": {
    "dotnet_interactive": {
     "language": "fsharp"
    }
   },
   "outputs": [
    {
     "data": {
      "text/html": [
       "<table><thead><tr><th>Score</th><th>GapPenalty</th><th>ExtendGapPenalty</th><th>Length</th><th>Identity</th><th>IdentityFraction</th><th>Seq1AlignmentStartIndex</th><th>Seq2AlignmentStartIndex</th></tr></thead><tbody><tr><td><div class=\"dni-plaintext\">104</div></td><td><div class=\"dni-plaintext\">-5</div></td><td><div class=\"dni-plaintext\">-1</div></td><td><div class=\"dni-plaintext\">41</div></td><td><div class=\"dni-plaintext\">22</div></td><td><div class=\"dni-plaintext\">0.5365853658536586</div></td><td><div class=\"dni-plaintext\">27</div></td><td><div class=\"dni-plaintext\">58</div></td></tr></tbody></table>"
      ]
     },
     "metadata": {},
     "output_type": "display_data"
    }
   ],
   "source": [
    "localAA.MetaData"
   ]
  },
  {
   "cell_type": "code",
   "execution_count": null,
   "metadata": {
    "dotnet_interactive": {
     "language": "fsharp"
    }
   },
   "outputs": [
    {
     "data": {
      "text/html": [
       "<table><thead><tr><th><i>index</i></th></tr></thead><tbody><tr><td>0</td></tr><tr><td>1</td></tr><tr><td>2</td></tr><tr><td>3</td></tr><tr><td>4</td></tr><tr><td>5</td></tr><tr><td>6</td></tr><tr><td>7</td></tr><tr><td>8</td></tr><tr><td>9</td></tr><tr><td>10</td></tr><tr><td>11</td></tr><tr><td>12</td></tr><tr><td>13</td></tr><tr><td>14</td></tr><tr><td>15</td></tr><tr><td>16</td></tr><tr><td>17</td></tr><tr><td>18</td></tr><tr><td>19</td></tr><tr><td colspan=\"1\"><i>... (more)</i></td></tr></tbody></table>"
      ]
     },
     "metadata": {},
     "output_type": "display_data"
    }
   ],
   "source": [
    "let a = localAA.Sequences |> Seq.item 0\n",
    "a\n"
   ]
  },
  {
   "cell_type": "code",
   "execution_count": null,
   "metadata": {
    "dotnet_interactive": {
     "language": "fsharp"
    }
   },
   "outputs": [
    {
     "data": {
      "text/html": [
       "A"
      ]
     },
     "metadata": {},
     "output_type": "display_data"
    }
   ],
   "source": [
    "open BioFSharp\n",
    "\n",
    "AminoAcids.AminoAcid.Ala"
   ]
  },
  {
   "cell_type": "code",
   "execution_count": null,
   "metadata": {
    "dotnet_interactive": {
     "language": "fsharp"
    }
   },
   "outputs": [
    {
     "data": {
      "text/html": [
       "<pre>\r\n",
       "         1  SOOOOSEEEE ESOOOOSEEE EESOOOOSEE EEESOOOOSE EEEESOOOOS EEEEESOOOO\r\n",
       "        61  SEEEEESOOO OSEEEEESOO OOSEEEEESO OOOSEEEEES OOOOSEEEEE SOOOOSEEEE\r\n",
       "       121  ESOOOOSEEE EESOOOOSEE EEESOOOOSE EEEESOOOOS EEEEESOOOO SEEEEESOOO\r\n",
       "       181  OSEEEEESOO OOSEEEEESO OOOSEEEEES OOOOSEEEEE SOOOOSEEEE ESOOOOSEEE\r\n",
       "       241  EESOOOOSEE EEESOOOOSE EEEESOOOOS EEEEE\r\n",
       "</pre>"
      ]
     },
     "metadata": {},
     "output_type": "display_data"
    }
   ],
   "source": [
    "BioArray.ofAminoAcidString \"SOOOOSEEEEESOOOOSEEEEESOOOOSEEEEESOOOOSEEEEESOOOOSEEEEESOOOOSEEEEESOOOOSEEEEESOOOOSEEEEESOOOOSEEEEESOOOOSEEEEESOOOOSEEEEESOOOOSEEEEESOOOOSEEEEESOOOOSEEEEESOOOOSEEEEESOOOOSEEEEESOOOOSEEEEESOOOOSEEEEESOOOOSEEEEESOOOOSEEEEESOOOOSEEEEESOOOOSEEEEESOOOOSEEEEESOOOOSEEEEESOOOOSEEEEE\""
   ]
  }
 ],
 "metadata": {
  "kernelspec": {
   "display_name": ".NET (F#)",
   "language": "F#",
   "name": ".net-fsharp"
  },
  "language_info": {
   "name": "F#"
  }
 },
 "nbformat": 4,
 "nbformat_minor": 2
}
